{
 "cells": [
  {
   "cell_type": "markdown",
   "id": "d719108c-c5b2-4639-ae50-2d4fef890a44",
   "metadata": {},
   "source": [
    "\n",
    "### Date and time\n"
   ]
  },
  {
   "cell_type": "markdown",
   "id": "4361eeee-6552-4e08-ac85-9ffa239f0f39",
   "metadata": {},
   "source": [
    "Create new var "
   ]
  },
  {
   "cell_type": "code",
   "execution_count": 2,
   "id": "224b9c8d-752e-463a-9b94-f64bfb0d810d",
   "metadata": {},
   "outputs": [],
   "source": [
    "let d;"
   ]
  },
  {
   "cell_type": "markdown",
   "id": "925fd5bd-3332-429f-a0f9-c304defdf3d9",
   "metadata": {},
   "source": [
    "Instantiate new Date() object"
   ]
  },
  {
   "cell_type": "code",
   "execution_count": 3,
   "id": "694ae830-1270-4fa1-abef-74902ede59c0",
   "metadata": {},
   "outputs": [
    {
     "data": {
      "text/plain": [
       "\u001b[35m2023-12-27T20:18:49.476Z\u001b[39m"
      ]
     },
     "execution_count": 3,
     "metadata": {},
     "output_type": "execute_result"
    }
   ],
   "source": [
    "d = new Date();"
   ]
  },
  {
   "cell_type": "code",
   "execution_count": 4,
   "id": "22eb332a-a48c-4393-8eae-be4c015d41c3",
   "metadata": {},
   "outputs": [
    {
     "data": {
      "text/plain": [
       "\u001b[32m\"object\"\u001b[39m"
      ]
     },
     "execution_count": 4,
     "metadata": {},
     "output_type": "execute_result"
    }
   ],
   "source": [
    "typeof(d);"
   ]
  },
  {
   "cell_type": "markdown",
   "id": "e5adeb57-afc9-492f-9f81-0b633b4f4198",
   "metadata": {},
   "source": [
    "Create a more specific date with added parameters"
   ]
  },
  {
   "cell_type": "code",
   "execution_count": 5,
   "id": "d154d615-6b0e-4596-9d7c-6916aa433359",
   "metadata": {},
   "outputs": [
    {
     "data": {
      "text/plain": [
       "\u001b[35m2023-12-27T20:18:53.010Z\u001b[39m"
      ]
     },
     "execution_count": 5,
     "metadata": {},
     "output_type": "execute_result"
    }
   ],
   "source": [
    "d = new Date();"
   ]
  },
  {
   "cell_type": "markdown",
   "id": "61f7b732-6e2a-46b1-aca5-0da16d2f8657",
   "metadata": {},
   "source": [
    "The date now, as represented in seconds since Jan 1, 1970"
   ]
  },
  {
   "cell_type": "code",
   "execution_count": 6,
   "id": "005dad2e-5f8d-4a51-9147-48f8ea85d2d1",
   "metadata": {},
   "outputs": [
    {
     "data": {
      "text/plain": [
       "\u001b[33m1703708337923\u001b[39m"
      ]
     },
     "execution_count": 6,
     "metadata": {},
     "output_type": "execute_result"
    }
   ],
   "source": [
    "d = Date.now();"
   ]
  },
  {
   "cell_type": "code",
   "execution_count": 7,
   "id": "09670973-d25e-49a2-bd8b-2f89cc6a8710",
   "metadata": {},
   "outputs": [
    {
     "data": {
      "text/plain": [
       "\u001b[33m1703708337923\u001b[39m"
      ]
     },
     "execution_count": 7,
     "metadata": {},
     "output_type": "execute_result"
    }
   ],
   "source": [
    "d;"
   ]
  },
  {
   "cell_type": "code",
   "execution_count": 9,
   "id": "cd55bba1",
   "metadata": {},
   "outputs": [
    {
     "data": {
      "text/plain": [
       "\u001b[35m2023-12-27T20:20:19.263Z\u001b[39m"
      ]
     },
     "execution_count": 9,
     "metadata": {},
     "output_type": "execute_result"
    }
   ],
   "source": [
    "d = new Date();"
   ]
  },
  {
   "cell_type": "code",
   "execution_count": 10,
   "id": "e915f86b",
   "metadata": {},
   "outputs": [
    {
     "data": {
      "text/plain": [
       "\u001b[33m1703708419263\u001b[39m"
      ]
     },
     "execution_count": 10,
     "metadata": {},
     "output_type": "execute_result"
    }
   ],
   "source": [
    "d = d.getTime();"
   ]
  },
  {
   "cell_type": "code",
   "execution_count": 11,
   "id": "5bf68a4a",
   "metadata": {},
   "outputs": [
    {
     "data": {
      "text/plain": [
       "\u001b[33m1703708419263\u001b[39m"
      ]
     },
     "execution_count": 11,
     "metadata": {},
     "output_type": "execute_result"
    }
   ],
   "source": [
    "d = d.valueOf();"
   ]
  },
  {
   "cell_type": "markdown",
   "id": "ecdbb12c",
   "metadata": {},
   "source": [
    "Instantiate a new Date() object and enter an existing date as argument"
   ]
  },
  {
   "cell_type": "code",
   "execution_count": 12,
   "id": "1f6baa89",
   "metadata": {},
   "outputs": [
    {
     "data": {
      "text/plain": [
       "\u001b[35m2023-12-27T20:20:19.263Z\u001b[39m"
      ]
     },
     "execution_count": 12,
     "metadata": {},
     "output_type": "execute_result"
    }
   ],
   "source": [
    "d = new Date(1703708419263);"
   ]
  },
  {
   "cell_type": "code",
   "execution_count": null,
   "id": "b8252274",
   "metadata": {},
   "outputs": [],
   "source": []
  }
 ],
 "metadata": {
  "kernelspec": {
   "display_name": "Deno",
   "language": "typescript",
   "name": "deno"
  },
  "language_info": {
   "file_extension": ".ts",
   "mimetype": "text/x.typescript",
   "name": "typescript",
   "nb_converter": "script",
   "pygments_lexer": "typescript",
   "version": "5.3.3"
  }
 },
 "nbformat": 4,
 "nbformat_minor": 5
}
