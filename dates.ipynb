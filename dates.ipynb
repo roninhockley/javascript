{
 "cells": [
  {
   "cell_type": "markdown",
   "id": "6b75890c-90b9-44b6-be29-2f599b83cece",
   "metadata": {},
   "source": [
    "### Date objects\n",
    "In javascript dates are created using the Date() object."
   ]
  },
  {
   "cell_type": "code",
   "execution_count": 8,
   "id": "1b99f1d4-7df8-49cc-aa0f-a1b3f7b23888",
   "metadata": {},
   "outputs": [
    {
     "ename": "ReferenceError",
     "evalue": "en_US is not defined",
     "output_type": "error",
     "traceback": [
      "Stack trace:",
      "ReferenceError: en_US is not defined",
      "    at <anonymous>:4:20"
     ]
    }
   ],
   "source": [
    "// Create a new date object\n",
    "let now = new Date()\n",
    "// show the now object\n",
    "now.toLocaleString("
   ]
  },
  {
   "cell_type": "code",
   "execution_count": null,
   "id": "6367cab8-b18a-4b27-8789-1f1deaac4bfe",
   "metadata": {},
   "outputs": [],
   "source": []
  }
 ],
 "metadata": {
  "kernelspec": {
   "display_name": "Deno",
   "language": "typescript",
   "name": "deno"
  },
  "language_info": {
   "file_extension": ".ts",
   "mimetype": "text/x.typescript",
   "name": "typescript",
   "nb_converter": "script",
   "pygments_lexer": "typescript",
   "version": "5.3.3"
  }
 },
 "nbformat": 4,
 "nbformat_minor": 5
}
