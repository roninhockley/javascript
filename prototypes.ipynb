{
 "cells": [
  {
   "cell_type": "markdown",
   "metadata": {},
   "source": [
    "### Prototypes\n",
    "A prototype is just **a reference to another object**.\n",
    "Javascript is a prototype based language. As such, all objects inherit properties from a prototype.\n",
    "\n",
    "There are 2 types of prototypes in javascript\n",
    "* protoype - a special object that is created as a property of all functions. [[prototype]] points to this.\n",
    "* [[prototype]] - a hidden property on every object, can be accessed in script using `__proto__`. \n",
    "\n",
    "**ONLY** functions have prototypes.\n",
    "\n",
    "Objects have a property called `__proto__` which points to the prototype of the type of object:\n",
    "* arrays - the `__proto__` of an array will point to Array.prototype \n",
    "* numbers - the `__proto__` of a number will point to the Number.prototype\n",
    "\n",
    "Going up a level, the Array.prototype, Number.prototype etc will have as their prototype the root `Object.prototype`.\n",
    "And since `Object.prototype` is the root, its prototype will show as `null`."
   ]
  },
  {
   "cell_type": "code",
   "execution_count": 21,
   "metadata": {},
   "outputs": [],
   "source": [
    "//create object using object literal\n",
    "let food = {\n",
    "    yummy: true\n",
    "}\n",
    "//create a function Carrot\n",
    "function Carrot(color) {\n",
    "    this.color = color\n",
    "}"
   ]
  },
  {
   "cell_type": "markdown",
   "metadata": {},
   "source": [
    "Since carrot is a function it will have a prototype, designated by the brakcets"
   ]
  },
  {
   "cell_type": "code",
   "execution_count": 22,
   "metadata": {},
   "outputs": [
    {
     "data": {
      "text/plain": [
       "{}"
      ]
     },
     "execution_count": 22,
     "metadata": {},
     "output_type": "execute_result"
    }
   ],
   "source": [
    "Carrot.prototype"
   ]
  },
  {
   "cell_type": "markdown",
   "metadata": {},
   "source": [
    "Food is not a function, so has NO prototype"
   ]
  },
  {
   "cell_type": "code",
   "execution_count": 23,
   "metadata": {},
   "outputs": [],
   "source": [
    "food.prototype"
   ]
  },
  {
   "cell_type": "code",
   "execution_count": 24,
   "metadata": {},
   "outputs": [
    {
     "data": {
      "text/plain": [
       "{ yummy: \u001b[33mtrue\u001b[39m }"
      ]
     },
     "execution_count": 24,
     "metadata": {},
     "output_type": "execute_result"
    }
   ],
   "source": [
    "//assign the prototype for Carrot to the object food\n",
    "Carrot.prototype = food"
   ]
  },
  {
   "cell_type": "code",
   "execution_count": 25,
   "metadata": {},
   "outputs": [],
   "source": [
    "let carrot = new Carrot('orange')"
   ]
  },
  {
   "cell_type": "markdown",
   "metadata": {},
   "source": [
    "carrot is created from Carrot so it has the color property.\n",
    "BUT, since Carrot has inherited yummy from the food object, carrot also has it."
   ]
  },
  {
   "cell_type": "code",
   "execution_count": 26,
   "metadata": {},
   "outputs": [
    {
     "name": "stdout",
     "output_type": "stream",
     "text": [
      "true orange\n"
     ]
    }
   ],
   "source": [
    "console.log(carrot.yummy,carrot.color)"
   ]
  },
  {
   "cell_type": "markdown",
   "metadata": {},
   "source": [
    "Another example, this time using the method `Object.setPrototypeOf()`"
   ]
  },
  {
   "cell_type": "code",
   "execution_count": 13,
   "metadata": {},
   "outputs": [],
   "source": [
    "let user = {member: false}"
   ]
  },
  {
   "cell_type": "code",
   "execution_count": 14,
   "metadata": {},
   "outputs": [],
   "source": [
    "let guestUser = {name: 'Wally'}"
   ]
  },
  {
   "cell_type": "code",
   "execution_count": 15,
   "metadata": {},
   "outputs": [
    {
     "data": {
      "text/plain": [
       "{ name: \u001b[32m\"Wally\"\u001b[39m }"
      ]
     },
     "execution_count": 15,
     "metadata": {},
     "output_type": "execute_result"
    }
   ],
   "source": [
    "//set prototype for guestUser to user\n",
    "Object.setPrototypeOf(guestUser,user)\n"
   ]
  },
  {
   "cell_type": "code",
   "execution_count": 40,
   "metadata": {},
   "outputs": [
    {
     "name": "stdout",
     "output_type": "stream",
     "text": [
      "Wally false\n"
     ]
    }
   ],
   "source": [
    "//now guestUser will have inherited the property 'member' from user\n",
    "console.log(guestUser.name,guestUser.member)"
   ]
  }
 ],
 "metadata": {
  "kernelspec": {
   "display_name": "Deno",
   "language": "typescript",
   "name": "deno"
  },
  "language_info": {
   "file_extension": ".ts",
   "mimetype": "text/x.typescript",
   "name": "typescript",
   "nb_converter": "script",
   "pygments_lexer": "typescript",
   "version": "5.3.3"
  }
 },
 "nbformat": 4,
 "nbformat_minor": 2
}
