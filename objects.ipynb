{
 "cells": [
  {
   "cell_type": "markdown",
   "metadata": {},
   "source": [
    "### Objects\n",
    "There are 4 ways to create objects:\n",
    "* object literal\n",
    "* object constructor\n",
    "* object.create()\n",
    "* ES2015 class "
   ]
  },
  {
   "cell_type": "markdown",
   "metadata": {},
   "source": [
    "#### Object literals - create a singleton object\n",
    "Just define property values in curly braces. Can even be empty with no defined properties.\n",
    "This method creates a *singleton* oject, meaning it is standalone, and cannot be used to create another object with the same properties/methods."
   ]
  },
  {
   "cell_type": "code",
   "execution_count": 2,
   "metadata": {},
   "outputs": [],
   "source": [
    "// an empty object using literal\n",
    "let empty = {}"
   ]
  },
  {
   "cell_type": "code",
   "execution_count": 3,
   "metadata": {},
   "outputs": [
    {
     "data": {
      "text/plain": [
       "\u001b[32m\"object\"\u001b[39m"
      ]
     },
     "execution_count": 3,
     "metadata": {},
     "output_type": "execute_result"
    }
   ],
   "source": [
    "typeof(empty)"
   ]
  },
  {
   "cell_type": "markdown",
   "metadata": {},
   "source": [
    "An object with properties created using literal"
   ]
  },
  {
   "cell_type": "code",
   "execution_count": 7,
   "metadata": {},
   "outputs": [],
   "source": [
    "let dog = {\n",
    "    color: 'brown',\n",
    "    breed: 'doberman',\n",
    "    age: 7\n",
    "}"
   ]
  },
  {
   "cell_type": "code",
   "execution_count": 8,
   "metadata": {},
   "outputs": [
    {
     "data": {
      "text/plain": [
       "\u001b[32m\"object\"\u001b[39m"
      ]
     },
     "execution_count": 8,
     "metadata": {},
     "output_type": "execute_result"
    }
   ],
   "source": [
    "typeof(dog)"
   ]
  },
  {
   "cell_type": "markdown",
   "metadata": {},
   "source": [
    "Create object with methods also.\n",
    "**NOTE:** A method is just a function, that is inside an object. "
   ]
  },
  {
   "cell_type": "code",
   "execution_count": 13,
   "metadata": {},
   "outputs": [],
   "source": [
    "let person = {\n",
    "    name: 'Ron',\n",
    "    age: 58,\n",
    "    speak: function() {\n",
    "        console.log(`${this.name} is ${this.age} years old.`)\n",
    "    }\n",
    "\n",
    "}"
   ]
  },
  {
   "cell_type": "code",
   "execution_count": 14,
   "metadata": {},
   "outputs": [
    {
     "name": "stdout",
     "output_type": "stream",
     "text": [
      "Ron is 58 years old.\n"
     ]
    }
   ],
   "source": [
    "person.speak()"
   ]
  },
  {
   "cell_type": "markdown",
   "metadata": {},
   "source": [
    "#### Object contructor - create an object template, can be used to instantiate more objects\n",
    "This is a contructor function used to create an object. This requires 2 steps:\n",
    "* define the object, by creating the constructor function\n",
    "* Instantiate a new instance of the object using the **new** keyword\n"
   ]
  },
  {
   "cell_type": "code",
   "execution_count": 2,
   "metadata": {},
   "outputs": [],
   "source": [
    "// define object, which will take 3 arguments. Add a method for fun\n",
    "function Car(make,model,color)\n",
    "{\n",
    "    this.make = make\n",
    "    this.model = model\n",
    "    this.color = color\n",
    "    this.sound = function() {\n",
    "       console.log(`This ${this.model} is ${this.color} and it goes Vroooom!`)\n",
    "    }\n",
    "}"
   ]
  },
  {
   "cell_type": "code",
   "execution_count": 3,
   "metadata": {},
   "outputs": [],
   "source": [
    "// instantiate a new instance with the 'new' keyword. The method will fire\n",
    "let camry = new Car('Toyota','Camry','blue')"
   ]
  },
  {
   "cell_type": "code",
   "execution_count": 4,
   "metadata": {},
   "outputs": [
    {
     "name": "stdout",
     "output_type": "stream",
     "text": [
      "Car {\n",
      "  make: \"Toyota\",\n",
      "  model: \"Camry\",\n",
      "  color: \"blue\",\n",
      "  sound: [Function (anonymous)]\n",
      "}\n"
     ]
    }
   ],
   "source": [
    "console.log(camry)"
   ]
  },
  {
   "cell_type": "code",
   "execution_count": 5,
   "metadata": {},
   "outputs": [
    {
     "name": "stdout",
     "output_type": "stream",
     "text": [
      "This Camry is blue and it goes Vroooom!\n"
     ]
    }
   ],
   "source": [
    "camry.sound()"
   ]
  },
  {
   "cell_type": "markdown",
   "metadata": {},
   "source": [
    "Create another object based on the same constructor"
   ]
  },
  {
   "cell_type": "code",
   "execution_count": 6,
   "metadata": {},
   "outputs": [],
   "source": [
    "let accord = new Car('Honda','Accord','red')"
   ]
  },
  {
   "cell_type": "code",
   "execution_count": 7,
   "metadata": {},
   "outputs": [
    {
     "name": "stdout",
     "output_type": "stream",
     "text": [
      "Car {\n",
      "  make: \"Honda\",\n",
      "  model: \"Accord\",\n",
      "  color: \"red\",\n",
      "  sound: [Function (anonymous)]\n",
      "}\n"
     ]
    }
   ],
   "source": [
    "console.log(accord)"
   ]
  },
  {
   "cell_type": "code",
   "execution_count": 8,
   "metadata": {},
   "outputs": [
    {
     "name": "stdout",
     "output_type": "stream",
     "text": [
      "This Accord is red and it goes Vroooom!\n"
     ]
    }
   ],
   "source": [
    "accord.sound()"
   ]
  },
  {
   "cell_type": "markdown",
   "metadata": {},
   "source": [
    "#### Object.create\n",
    "This method creates an object using the **Object.create()** method, which requires you to pass in as the first argument a *prototype* which is an existing object, or null to create a new empty object.\n",
    "The new object inherits the properties/methods of the prototype.\n",
    "\n",
    "Too wordy, not doing examples in here."
   ]
  },
  {
   "cell_type": "markdown",
   "metadata": {},
   "source": [
    "#### Classes - ES2015 Class\n",
    "Use classes to define objects, as many other languages do. Rather than learn the *prototype* inheritance method. In 2015, ECMAScript (ES6) introduced classes.\n",
    "\n",
    "Under the hood, javascript works the same, the class keyword is just for convenience when coding.\n",
    "Classes also solve another problem, which is that when you create a new constructor function, and put properties and methods into it, those are duplicated for every new instantiation of that object. Wasting memory. To avoid this, you must put the method directly into the *prototype* of the constructor function. Extra steps. \n",
    "\n",
    "With classes this is all done in one shot."
   ]
  },
  {
   "cell_type": "markdown",
   "metadata": {},
   "source": [
    "The syntax for a class has the constructor declared first, followed by methods, and the methods will be in the prototype, so not duplicated on every new instantiation."
   ]
  },
  {
   "cell_type": "markdown",
   "metadata": {},
   "source": [
    "The constructor from above for recall:\n",
    "\n",
    "```javascript\n",
    "function Car(make,model,color)\n",
    "{\n",
    "    this.make = make\n",
    "    this.model = model\n",
    "    this.color = color\n",
    "    this.sound = function() {\n",
    "       console.log(`This ${this.model} is ${this.color} and it goes Vroooom!`)\n",
    "    }\n",
    "}\n",
    "```"
   ]
  },
  {
   "cell_type": "code",
   "execution_count": 5,
   "metadata": {},
   "outputs": [],
   "source": [
    "// now with classes\n",
    "class Car {\n",
    "  constructor(make,model,color) {\n",
    "    this.make = make\n",
    "    this.model = model\n",
    "    this.color = color\n",
    "  }\n",
    "  sound() {\n",
    "    console.log(`This ${this.model} is ${this.color} and it goes Vroooom!`)\n",
    "  }\n",
    "}"
   ]
  },
  {
   "cell_type": "code",
   "execution_count": 6,
   "metadata": {},
   "outputs": [],
   "source": [
    "//instantiate a new object\n",
    "let camry = new Car('Toyota','Camry','blue')"
   ]
  },
  {
   "cell_type": "code",
   "execution_count": 7,
   "metadata": {},
   "outputs": [
    {
     "name": "stdout",
     "output_type": "stream",
     "text": [
      "This Camry is blue and it goes Vroooom!\n"
     ]
    }
   ],
   "source": [
    "camry.sound()"
   ]
  },
  {
   "cell_type": "code",
   "execution_count": 8,
   "metadata": {},
   "outputs": [],
   "source": [
    "//instantiate another object\n",
    "let accord = new Car('Honda','Accord','red')"
   ]
  },
  {
   "cell_type": "code",
   "execution_count": 9,
   "metadata": {},
   "outputs": [
    {
     "name": "stdout",
     "output_type": "stream",
     "text": [
      "This Accord is red and it goes Vroooom!\n"
     ]
    }
   ],
   "source": [
    "accord.sound()"
   ]
  },
  {
   "cell_type": "markdown",
   "metadata": {},
   "source": [
    "As seen below, the method is already in the prototype for the Car class:"
   ]
  },
  {
   "cell_type": "code",
   "execution_count": 10,
   "metadata": {},
   "outputs": [
    {
     "name": "stdout",
     "output_type": "stream",
     "text": [
      "[ \"constructor\", \"sound\" ]\n"
     ]
    }
   ],
   "source": [
    "console.log(Object.getOwnPropertyNames(Car.prototype))"
   ]
  },
  {
   "cell_type": "code",
   "execution_count": null,
   "metadata": {},
   "outputs": [],
   "source": []
  }
 ],
 "metadata": {
  "kernelspec": {
   "display_name": "Deno",
   "language": "typescript",
   "name": "deno"
  },
  "language_info": {
   "file_extension": ".ts",
   "mimetype": "text/x.typescript",
   "name": "typescript",
   "nb_converter": "script",
   "pygments_lexer": "typescript",
   "version": "5.2.2"
  }
 },
 "nbformat": 4,
 "nbformat_minor": 2
}
