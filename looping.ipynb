{
 "cells": [
  {
   "cell_type": "markdown",
   "metadata": {},
   "source": [
    "### Looping\n",
    "Looping thru arrays and objects"
   ]
  },
  {
   "cell_type": "markdown",
   "metadata": {},
   "source": [
    "Before ES6, the only way was with a *for in* loop.\n",
    "Since ES6, there is a better way, using the *for of* loop. It can also convert the object to an array and loop over that.\n",
    "\n",
    "There are 3 methods to use for converting and looping over objects:\n",
    "* object.keys - gives you the keys to iterate over\n",
    "* object.values - gives you the values to iterate over\n",
    "* object.entries - gives you both keys and values, by creating an array with arrays in it, each having key value pairs."
   ]
  },
  {
   "cell_type": "markdown",
   "metadata": {},
   "source": [
    "#### Loop over arary with for of loop"
   ]
  },
  {
   "cell_type": "code",
   "execution_count": 2,
   "metadata": {},
   "outputs": [
    {
     "name": "stdout",
     "output_type": "stream",
     "text": [
      "Hi my name is Ron.\n",
      "Hi my name is Nikky.\n",
      "Hi my name is Mom.\n"
     ]
    }
   ],
   "source": [
    "// create an array to iterate with for of loop\n",
    "let names = ['Ron','Nikky','Mom']\n",
    "for (const name of names) {\n",
    "    console.log(`Hi my name is ${name}.`)\n",
    "}"
   ]
  },
  {
   "cell_type": "markdown",
   "metadata": {},
   "source": [
    "#### Loop over object with for of loop"
   ]
  },
  {
   "cell_type": "markdown",
   "metadata": {},
   "source": [
    "Demonstrate converting object to array using each of 3 methods"
   ]
  },
  {
   "cell_type": "code",
   "execution_count": 3,
   "metadata": {},
   "outputs": [],
   "source": [
    "// create object, list of fruits\n",
    "let fruit = {\n",
    "    bananas: 12,\n",
    "    carrots: 2,\n",
    "    mangos: 7\n",
    "}"
   ]
  },
  {
   "cell_type": "code",
   "execution_count": 4,
   "metadata": {},
   "outputs": [],
   "source": [
    "//  use object.keys\n",
    "let fruitkeys = Object.keys(fruit)"
   ]
  },
  {
   "cell_type": "code",
   "execution_count": 5,
   "metadata": {},
   "outputs": [
    {
     "name": "stdout",
     "output_type": "stream",
     "text": [
      "[ \"bananas\", \"carrots\", \"mangos\" ]\n"
     ]
    }
   ],
   "source": [
    "console.log(fruitkeys)"
   ]
  },
  {
   "cell_type": "code",
   "execution_count": 6,
   "metadata": {},
   "outputs": [],
   "source": [
    "// use object.values\n",
    "let fruitValues = Object.values(fruit)"
   ]
  },
  {
   "cell_type": "code",
   "execution_count": 7,
   "metadata": {},
   "outputs": [
    {
     "name": "stdout",
     "output_type": "stream",
     "text": [
      "[ 12, 2, 7 ]\n"
     ]
    }
   ],
   "source": [
    "console.log(fruitValues)"
   ]
  },
  {
   "cell_type": "code",
   "execution_count": 10,
   "metadata": {},
   "outputs": [],
   "source": [
    "// use object.entries\n",
    "let fruitEntries = Object.entries(fruit)"
   ]
  },
  {
   "cell_type": "code",
   "execution_count": 9,
   "metadata": {},
   "outputs": [
    {
     "name": "stdout",
     "output_type": "stream",
     "text": [
      "[ [ \"bananas\", 12 ], [ \"carrots\", 2 ], [ \"mangos\", 7 ] ]\n"
     ]
    }
   ],
   "source": [
    "console.log(fruitEntries)"
   ]
  },
  {
   "cell_type": "markdown",
   "metadata": {},
   "source": [
    "Use *for of* loop to iterate over the entries object."
   ]
  },
  {
   "cell_type": "code",
   "execution_count": 11,
   "metadata": {},
   "outputs": [
    {
     "name": "stdout",
     "output_type": "stream",
     "text": [
      "We need 12 bananas\n",
      "We need 2 carrots\n",
      "We need 7 mangos\n"
     ]
    }
   ],
   "source": [
    "// assign a name to each array element and loop over\n",
    "for (const [fruitKey,fruitValue] of fruitEntries) {\n",
    "    console.log(`We need ${fruitValue} ${fruitKey}`)\n",
    "}"
   ]
  },
  {
   "cell_type": "code",
   "execution_count": null,
   "metadata": {},
   "outputs": [],
   "source": []
  }
 ],
 "metadata": {
  "kernelspec": {
   "display_name": "Deno",
   "language": "typescript",
   "name": "deno"
  },
  "language_info": {
   "file_extension": ".ts",
   "mimetype": "text/x.typescript",
   "name": "typescript",
   "nb_converter": "script",
   "pygments_lexer": "typescript",
   "version": "5.3.3"
  }
 },
 "nbformat": 4,
 "nbformat_minor": 2
}
